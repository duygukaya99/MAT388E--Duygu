{
 "cells": [
  {
   "cell_type": "markdown",
   "id": "82588623-fb98-4755-a48d-23ee261ec31a",
   "metadata": {},
   "source": [
    "# Homework #1\n",
    "\n",
    "Remember: You must ingest the data to your notebooks directly from the data server. Also, don't write the same code with modifications to do similar things over and over again. Write a function."
   ]
  },
  {
   "cell_type": "markdown",
   "id": "80c06771",
   "metadata": {},
   "source": [
    "---Merhaba hocam, siz ödeve bakmaya başlamadan önce ödevim hakkında bilgi vermek istedim. \n",
    "Yapmaya çalışırken zorlandım, beklenmedik hatalarla karşılaştım ve çözmek için zamanım yetmedi maalesef. Ödev için çook daha fazla zaman ayırmam gerektiğini gördüm. Aynı şeyleri tekrar tekrar yazmayın dediğiniz için de öyle yapmak yerine hiç yazmadım. Dersin beni zorlayacağını biliyordum ama çok çok daha fazla çalışmam ve eksiklerimi kapatmam lazım anlaşılan. O yüzden ilk ödev için kusura bakmayın :(---"
   ]
  },
  {
   "cell_type": "markdown",
   "id": "5b934b08-1bfb-414b-a6af-089e1243f854",
   "metadata": {},
   "source": [
    "## Question 1\n",
    "\n",
    "Use [World Bank's Data Service](https://data.worldbank.org/) to retrieve\n",
    "\n",
    "* Literacy rates of women (percentage of females ages 15 and above)\n",
    "* Child mortality rate, under 5 year old. (per 1,000 live births)\n",
    "* Gini index (Economic Inequality)\n",
    "\n",
    "1. Plot each dataset for Turkey from earliest date available until this year.\n",
    "2. Plot the same data for Greece, Bulgaria, Romania, Poland, Syria and Iran for the same periods. \n",
    "3. Do a scatter plot of female literacy rate against child mortality rate for Turkey. Do you see a relation? Which direction do you think the relation works?\n",
    "4. Do a scatter plot of female literacy rate against gini index for Turkey. Do you see a relation? Which direction do you think the relation works?\n",
    "5. Do a scatter plot of child mortality rate against the gini index for Turkey. Do you see a relation? Which direction do you think the relation works?"
   ]
  },
  {
   "cell_type": "code",
   "execution_count": 2,
   "id": "ef812771",
   "metadata": {},
   "outputs": [],
   "source": [
    "import numpy as np\n",
    "import pandas as pd\n",
    "import matplotlib.pyplot as plt \n",
    "import gzip\n",
    "\n",
    "from urllib.request import urlopen\n",
    "from xmltodict import parse\n",
    "from zipfile import ZipFile\n",
    "from io import BytesIO\n",
    "import wbdata"
   ]
  },
  {
   "cell_type": "code",
   "execution_count": 20,
   "id": "854f408b",
   "metadata": {},
   "outputs": [],
   "source": [
    "# with urlopen('https://api.worldbank.org/v2/en/indicator/SE.ADT.LITR.FE.ZS?downloadformat=excel') as url:\n",
    "#     literacy_data = pd.read_excel(url.read())\n",
    "\n",
    "# literacy_data"
   ]
  },
  {
   "cell_type": "code",
   "execution_count": 86,
   "id": "4550067e",
   "metadata": {},
   "outputs": [
    {
     "data": {
      "text/html": [
       "<div>\n",
       "<style scoped>\n",
       "    .dataframe tbody tr th:only-of-type {\n",
       "        vertical-align: middle;\n",
       "    }\n",
       "\n",
       "    .dataframe tbody tr th {\n",
       "        vertical-align: top;\n",
       "    }\n",
       "\n",
       "    .dataframe thead th {\n",
       "        text-align: right;\n",
       "    }\n",
       "</style>\n",
       "<table border=\"1\" class=\"dataframe\">\n",
       "  <thead>\n",
       "    <tr style=\"text-align: right;\">\n",
       "      <th></th>\n",
       "      <th>Literacy rates of women</th>\n",
       "    </tr>\n",
       "    <tr>\n",
       "      <th>date</th>\n",
       "      <th></th>\n",
       "    </tr>\n",
       "  </thead>\n",
       "  <tbody>\n",
       "    <tr>\n",
       "      <th>2021</th>\n",
       "      <td>NaN</td>\n",
       "    </tr>\n",
       "    <tr>\n",
       "      <th>2020</th>\n",
       "      <td>NaN</td>\n",
       "    </tr>\n",
       "    <tr>\n",
       "      <th>2019</th>\n",
       "      <td>94.424042</td>\n",
       "    </tr>\n",
       "    <tr>\n",
       "      <th>2018</th>\n",
       "      <td>NaN</td>\n",
       "    </tr>\n",
       "    <tr>\n",
       "      <th>2017</th>\n",
       "      <td>93.498268</td>\n",
       "    </tr>\n",
       "    <tr>\n",
       "      <th>...</th>\n",
       "      <td>...</td>\n",
       "    </tr>\n",
       "    <tr>\n",
       "      <th>1964</th>\n",
       "      <td>NaN</td>\n",
       "    </tr>\n",
       "    <tr>\n",
       "      <th>1963</th>\n",
       "      <td>NaN</td>\n",
       "    </tr>\n",
       "    <tr>\n",
       "      <th>1962</th>\n",
       "      <td>NaN</td>\n",
       "    </tr>\n",
       "    <tr>\n",
       "      <th>1961</th>\n",
       "      <td>NaN</td>\n",
       "    </tr>\n",
       "    <tr>\n",
       "      <th>1960</th>\n",
       "      <td>NaN</td>\n",
       "    </tr>\n",
       "  </tbody>\n",
       "</table>\n",
       "<p>62 rows × 1 columns</p>\n",
       "</div>"
      ],
      "text/plain": [
       "      Literacy rates of women\n",
       "date                         \n",
       "2021                      NaN\n",
       "2020                      NaN\n",
       "2019                94.424042\n",
       "2018                      NaN\n",
       "2017                93.498268\n",
       "...                       ...\n",
       "1964                      NaN\n",
       "1963                      NaN\n",
       "1962                      NaN\n",
       "1961                      NaN\n",
       "1960                      NaN\n",
       "\n",
       "[62 rows x 1 columns]"
      ]
     },
     "execution_count": 86,
     "metadata": {},
     "output_type": "execute_result"
    }
   ],
   "source": [
    "literacy_data = wbdata.get_dataframe(indicators = {'SE.ADT.LITR.FE.ZS' : \"Literacy rates of women\"}, country = \"TUR\")\n",
    "literacy_data "
   ]
  },
  {
   "cell_type": "code",
   "execution_count": 39,
   "id": "aff6e7b1",
   "metadata": {},
   "outputs": [
    {
     "data": {
      "text/plain": [
       "Index(['2021', '2020', '2019', '2018', '2017', '2016', '2015', '2014', '2013',\n",
       "       '2012', '2011', '2010', '2009', '2008', '2007', '2006', '2005', '2004',\n",
       "       '2003', '2002', '2001', '2000', '1999', '1998', '1997', '1996', '1995',\n",
       "       '1994', '1993', '1992', '1991', '1990', '1989', '1988', '1987', '1986',\n",
       "       '1985', '1984', '1983', '1982', '1981', '1980', '1979', '1978', '1977',\n",
       "       '1976', '1975', '1974', '1973', '1972', '1971', '1970', '1969', '1968',\n",
       "       '1967', '1966', '1965', '1964', '1963', '1962', '1961', '1960'],\n",
       "      dtype='object', name='date')"
      ]
     },
     "execution_count": 39,
     "metadata": {},
     "output_type": "execute_result"
    }
   ],
   "source": [
    "literacy_data.index"
   ]
  },
  {
   "cell_type": "code",
   "execution_count": 59,
   "id": "5e9eaf9f",
   "metadata": {},
   "outputs": [],
   "source": [
    "literacy_data.index = pd.to_datetime(literacy_data.index)\n",
    "# since years start from last year, i have changed them to datetime to see from earliest date until this year."
   ]
  },
  {
   "cell_type": "code",
   "execution_count": 60,
   "id": "6f9a346e",
   "metadata": {},
   "outputs": [
    {
     "data": {
      "text/plain": [
       "<AxesSubplot: xlabel='date'>"
      ]
     },
     "execution_count": 60,
     "metadata": {},
     "output_type": "execute_result"
    },
    {
     "data": {
      "image/png": "[encoded data removed]",
      "text/plain": [
       "<Figure size 640x480 with 1 Axes>"
      ]
     },
     "metadata": {},
     "output_type": "display_data"
    }
   ],
   "source": [
    "literacy_data.plot() # as we can see we have a lot of null values and it gives "
   ]
  },
  {
   "cell_type": "code",
   "execution_count": 61,
   "id": "70626f88",
   "metadata": {},
   "outputs": [
    {
     "data": {
      "text/html": [
       "<div>\n",
       "<style scoped>\n",
       "    .dataframe tbody tr th:only-of-type {\n",
       "        vertical-align: middle;\n",
       "    }\n",
       "\n",
       "    .dataframe tbody tr th {\n",
       "        vertical-align: top;\n",
       "    }\n",
       "\n",
       "    .dataframe thead th {\n",
       "        text-align: right;\n",
       "    }\n",
       "</style>\n",
       "<table border=\"1\" class=\"dataframe\">\n",
       "  <thead>\n",
       "    <tr style=\"text-align: right;\">\n",
       "      <th></th>\n",
       "      <th>Literacy rates of women</th>\n",
       "    </tr>\n",
       "    <tr>\n",
       "      <th>date</th>\n",
       "      <th></th>\n",
       "    </tr>\n",
       "  </thead>\n",
       "  <tbody>\n",
       "    <tr>\n",
       "      <th>2019-01-01</th>\n",
       "      <td>94.424042</td>\n",
       "    </tr>\n",
       "    <tr>\n",
       "      <th>2017-01-01</th>\n",
       "      <td>93.498268</td>\n",
       "    </tr>\n",
       "    <tr>\n",
       "      <th>2016-01-01</th>\n",
       "      <td>93.563011</td>\n",
       "    </tr>\n",
       "    <tr>\n",
       "      <th>2015-01-01</th>\n",
       "      <td>92.645813</td>\n",
       "    </tr>\n",
       "    <tr>\n",
       "      <th>2014-01-01</th>\n",
       "      <td>92.401817</td>\n",
       "    </tr>\n",
       "    <tr>\n",
       "      <th>2013-01-01</th>\n",
       "      <td>92.138077</td>\n",
       "    </tr>\n",
       "    <tr>\n",
       "      <th>2012-01-01</th>\n",
       "      <td>91.604523</td>\n",
       "    </tr>\n",
       "    <tr>\n",
       "      <th>2011-01-01</th>\n",
       "      <td>90.310097</td>\n",
       "    </tr>\n",
       "    <tr>\n",
       "      <th>2010-01-01</th>\n",
       "      <td>88.073174</td>\n",
       "    </tr>\n",
       "    <tr>\n",
       "      <th>2009-01-01</th>\n",
       "      <td>85.347160</td>\n",
       "    </tr>\n",
       "    <tr>\n",
       "      <th>2007-01-01</th>\n",
       "      <td>81.263832</td>\n",
       "    </tr>\n",
       "    <tr>\n",
       "      <th>2006-01-01</th>\n",
       "      <td>80.385162</td>\n",
       "    </tr>\n",
       "    <tr>\n",
       "      <th>2005-01-01</th>\n",
       "      <td>80.548950</td>\n",
       "    </tr>\n",
       "    <tr>\n",
       "      <th>2004-01-01</th>\n",
       "      <td>79.581688</td>\n",
       "    </tr>\n",
       "    <tr>\n",
       "      <th>1990-01-01</th>\n",
       "      <td>68.519661</td>\n",
       "    </tr>\n",
       "    <tr>\n",
       "      <th>1985-01-01</th>\n",
       "      <td>64.231720</td>\n",
       "    </tr>\n",
       "    <tr>\n",
       "      <th>1980-01-01</th>\n",
       "      <td>49.806412</td>\n",
       "    </tr>\n",
       "    <tr>\n",
       "      <th>1975-01-01</th>\n",
       "      <td>45.098919</td>\n",
       "    </tr>\n",
       "  </tbody>\n",
       "</table>\n",
       "</div>"
      ],
      "text/plain": [
       "            Literacy rates of women\n",
       "date                               \n",
       "2019-01-01                94.424042\n",
       "2017-01-01                93.498268\n",
       "2016-01-01                93.563011\n",
       "2015-01-01                92.645813\n",
       "2014-01-01                92.401817\n",
       "2013-01-01                92.138077\n",
       "2012-01-01                91.604523\n",
       "2011-01-01                90.310097\n",
       "2010-01-01                88.073174\n",
       "2009-01-01                85.347160\n",
       "2007-01-01                81.263832\n",
       "2006-01-01                80.385162\n",
       "2005-01-01                80.548950\n",
       "2004-01-01                79.581688\n",
       "1990-01-01                68.519661\n",
       "1985-01-01                64.231720\n",
       "1980-01-01                49.806412\n",
       "1975-01-01                45.098919"
      ]
     },
     "execution_count": 61,
     "metadata": {},
     "output_type": "execute_result"
    }
   ],
   "source": [
    "# literacy_data.isna().sum()\n",
    "literacy_data1 = literacy_data.dropna()\n",
    "literacy_data1"
   ]
  },
  {
   "cell_type": "code",
   "execution_count": 50,
   "id": "821846c0",
   "metadata": {},
   "outputs": [
    {
     "data": {
      "text/plain": [
       "<AxesSubplot: xlabel='date'>"
      ]
     },
     "execution_count": 50,
     "metadata": {},
     "output_type": "execute_result"
    },
    {
     "data": {
      "image/png": "[encoded data removed]",
      "text/plain": [
       "<Figure size 640x480 with 1 Axes>"
      ]
     },
     "metadata": {},
     "output_type": "display_data"
    }
   ],
   "source": [
    "literacy_data1.plot() "
   ]
  },
  {
   "cell_type": "code",
   "execution_count": null,
   "id": "805ae3fc",
   "metadata": {},
   "outputs": [],
   "source": [
    "# according to graph, literacy rates of women (ages 15 and above) is increasing from earliest date available until this year in Turkey"
   ]
  },
  {
   "cell_type": "code",
   "execution_count": 55,
   "id": "7255c0cd",
   "metadata": {},
   "outputs": [
    {
     "data": {
      "text/html": [
       "<div>\n",
       "<style scoped>\n",
       "    .dataframe tbody tr th:only-of-type {\n",
       "        vertical-align: middle;\n",
       "    }\n",
       "\n",
       "    .dataframe tbody tr th {\n",
       "        vertical-align: top;\n",
       "    }\n",
       "\n",
       "    .dataframe thead th {\n",
       "        text-align: right;\n",
       "    }\n",
       "</style>\n",
       "<table border=\"1\" class=\"dataframe\">\n",
       "  <thead>\n",
       "    <tr style=\"text-align: right;\">\n",
       "      <th></th>\n",
       "      <th>Child mortality</th>\n",
       "    </tr>\n",
       "    <tr>\n",
       "      <th>date</th>\n",
       "      <th></th>\n",
       "    </tr>\n",
       "  </thead>\n",
       "  <tbody>\n",
       "    <tr>\n",
       "      <th>2021</th>\n",
       "      <td>NaN</td>\n",
       "    </tr>\n",
       "    <tr>\n",
       "      <th>2020</th>\n",
       "      <td>9.5</td>\n",
       "    </tr>\n",
       "    <tr>\n",
       "      <th>2019</th>\n",
       "      <td>10.1</td>\n",
       "    </tr>\n",
       "    <tr>\n",
       "      <th>2018</th>\n",
       "      <td>10.7</td>\n",
       "    </tr>\n",
       "    <tr>\n",
       "      <th>2017</th>\n",
       "      <td>11.4</td>\n",
       "    </tr>\n",
       "    <tr>\n",
       "      <th>...</th>\n",
       "      <td>...</td>\n",
       "    </tr>\n",
       "    <tr>\n",
       "      <th>1964</th>\n",
       "      <td>225.7</td>\n",
       "    </tr>\n",
       "    <tr>\n",
       "      <th>1963</th>\n",
       "      <td>233.5</td>\n",
       "    </tr>\n",
       "    <tr>\n",
       "      <th>1962</th>\n",
       "      <td>241.4</td>\n",
       "    </tr>\n",
       "    <tr>\n",
       "      <th>1961</th>\n",
       "      <td>249.3</td>\n",
       "    </tr>\n",
       "    <tr>\n",
       "      <th>1960</th>\n",
       "      <td>257.0</td>\n",
       "    </tr>\n",
       "  </tbody>\n",
       "</table>\n",
       "<p>62 rows × 1 columns</p>\n",
       "</div>"
      ],
      "text/plain": [
       "      Child mortality\n",
       "date                 \n",
       "2021              NaN\n",
       "2020              9.5\n",
       "2019             10.1\n",
       "2018             10.7\n",
       "2017             11.4\n",
       "...               ...\n",
       "1964            225.7\n",
       "1963            233.5\n",
       "1962            241.4\n",
       "1961            249.3\n",
       "1960            257.0\n",
       "\n",
       "[62 rows x 1 columns]"
      ]
     },
     "execution_count": 55,
     "metadata": {},
     "output_type": "execute_result"
    }
   ],
   "source": [
    "mortality_data = wbdata.get_dataframe(indicators = {'SH.DYN.MORT' : \"Child mortality\"}, country = \"tr\")\n",
    "mortality_data"
   ]
  },
  {
   "cell_type": "code",
   "execution_count": 62,
   "id": "df14e07b",
   "metadata": {},
   "outputs": [
    {
     "data": {
      "text/plain": [
       "<AxesSubplot: xlabel='date'>"
      ]
     },
     "execution_count": 62,
     "metadata": {},
     "output_type": "execute_result"
    },
    {
     "data": {
      "image/png": "[encoded data removed]",
      "text/plain": [
       "<Figure size 640x480 with 1 Axes>"
      ]
     },
     "metadata": {},
     "output_type": "display_data"
    }
   ],
   "source": [
    "mortality_data.index = pd.to_datetime(mortality_data.index)\n",
    "mortality_data.plot()"
   ]
  },
  {
   "cell_type": "code",
   "execution_count": null,
   "id": "82575883",
   "metadata": {},
   "outputs": [],
   "source": [
    "'''\n",
    "according to the graph, child mortality rate, under 5 year old. (per 1,000 live births) is decreasing from 60s until this year in Turkey\n",
    "which is a good thing\n",
    "'''"
   ]
  },
  {
   "cell_type": "code",
   "execution_count": 72,
   "id": "c8b368c7",
   "metadata": {},
   "outputs": [
    {
     "data": {
      "text/html": [
       "<div>\n",
       "<style scoped>\n",
       "    .dataframe tbody tr th:only-of-type {\n",
       "        vertical-align: middle;\n",
       "    }\n",
       "\n",
       "    .dataframe tbody tr th {\n",
       "        vertical-align: top;\n",
       "    }\n",
       "\n",
       "    .dataframe thead th {\n",
       "        text-align: right;\n",
       "    }\n",
       "</style>\n",
       "<table border=\"1\" class=\"dataframe\">\n",
       "  <thead>\n",
       "    <tr style=\"text-align: right;\">\n",
       "      <th></th>\n",
       "      <th>Gini-index</th>\n",
       "    </tr>\n",
       "    <tr>\n",
       "      <th>date</th>\n",
       "      <th></th>\n",
       "    </tr>\n",
       "  </thead>\n",
       "  <tbody>\n",
       "    <tr>\n",
       "      <th>2021</th>\n",
       "      <td>NaN</td>\n",
       "    </tr>\n",
       "    <tr>\n",
       "      <th>2020</th>\n",
       "      <td>NaN</td>\n",
       "    </tr>\n",
       "    <tr>\n",
       "      <th>2019</th>\n",
       "      <td>41.9</td>\n",
       "    </tr>\n",
       "    <tr>\n",
       "      <th>2018</th>\n",
       "      <td>41.9</td>\n",
       "    </tr>\n",
       "    <tr>\n",
       "      <th>2017</th>\n",
       "      <td>41.4</td>\n",
       "    </tr>\n",
       "    <tr>\n",
       "      <th>...</th>\n",
       "      <td>...</td>\n",
       "    </tr>\n",
       "    <tr>\n",
       "      <th>1964</th>\n",
       "      <td>NaN</td>\n",
       "    </tr>\n",
       "    <tr>\n",
       "      <th>1963</th>\n",
       "      <td>NaN</td>\n",
       "    </tr>\n",
       "    <tr>\n",
       "      <th>1962</th>\n",
       "      <td>NaN</td>\n",
       "    </tr>\n",
       "    <tr>\n",
       "      <th>1961</th>\n",
       "      <td>NaN</td>\n",
       "    </tr>\n",
       "    <tr>\n",
       "      <th>1960</th>\n",
       "      <td>NaN</td>\n",
       "    </tr>\n",
       "  </tbody>\n",
       "</table>\n",
       "<p>62 rows × 1 columns</p>\n",
       "</div>"
      ],
      "text/plain": [
       "      Gini-index\n",
       "date            \n",
       "2021         NaN\n",
       "2020         NaN\n",
       "2019        41.9\n",
       "2018        41.9\n",
       "2017        41.4\n",
       "...          ...\n",
       "1964         NaN\n",
       "1963         NaN\n",
       "1962         NaN\n",
       "1961         NaN\n",
       "1960         NaN\n",
       "\n",
       "[62 rows x 1 columns]"
      ]
     },
     "execution_count": 72,
     "metadata": {},
     "output_type": "execute_result"
    }
   ],
   "source": [
    "gini_index_data = wbdata.get_dataframe(indicators = {'SI.POV.GINI' : \"Gini-index\"}, country = \"tr\")\n",
    "gini_index_data "
   ]
  },
  {
   "cell_type": "code",
   "execution_count": 74,
   "id": "afb24e7e",
   "metadata": {},
   "outputs": [
    {
     "data": {
      "text/plain": [
       "<AxesSubplot: xlabel='date'>"
      ]
     },
     "execution_count": 74,
     "metadata": {},
     "output_type": "execute_result"
    },
    {
     "data": {
      "image/png": "[encoded data removed]",
      "text/plain": [
       "<Figure size 640x480 with 1 Axes>"
      ]
     },
     "metadata": {},
     "output_type": "display_data"
    }
   ],
   "source": [
    "gini_index_data.index = pd.to_datetime(gini_index_data.index)\n",
    "gini_index_data1 = gini_index_data.dropna()\n",
    "gini_index_data1.plot() "
   ]
  },
  {
   "cell_type": "code",
   "execution_count": 33,
   "id": "4f3f12f9",
   "metadata": {},
   "outputs": [],
   "source": [
    "''' \n",
    "Gini index is a summary measure of income inequality. As we can see from the graph above, it is going down in 2008, we can understand that \n",
    "it is because of the world crisis \n",
    "'''"
   ]
  },
  {
   "cell_type": "code",
   "execution_count": 75,
   "id": "eadc991b",
   "metadata": {},
   "outputs": [
    {
     "data": {
      "image/png": "[encoded data removed]",
      "text/plain": [
       "<Figure size 640x480 with 1 Axes>"
      ]
     },
     "metadata": {},
     "output_type": "display_data"
    }
   ],
   "source": [
    "plt.scatter(literacy_data, mortality_data)\n",
    "plt.show()"
   ]
  },
  {
   "cell_type": "code",
   "execution_count": null,
   "id": "330a312d",
   "metadata": {},
   "outputs": [],
   "source": [
    "'''From the graph above, i can say that literacy rate and child mortality has negative relationship.\n",
    "Which means when literaty rate is increasing, chil mortality rate is decreasing\n",
    "'''"
   ]
  },
  {
   "cell_type": "code",
   "execution_count": 76,
   "id": "a64d0437",
   "metadata": {},
   "outputs": [
    {
     "data": {
      "image/png": "[encoded data removed]",
      "text/plain": [
       "<Figure size 640x480 with 1 Axes>"
      ]
     },
     "metadata": {},
     "output_type": "display_data"
    }
   ],
   "source": [
    "plt.scatter(literacy_data, gini_index_data)\n",
    "plt.show()"
   ]
  },
  {
   "cell_type": "code",
   "execution_count": null,
   "id": "845a2095",
   "metadata": {},
   "outputs": [],
   "source": [
    "''' \n",
    "i could not see any relation, maybe it is because i have plotted it in a wrong way \n",
    "'''"
   ]
  },
  {
   "cell_type": "code",
   "execution_count": 77,
   "id": "9860bb8c",
   "metadata": {},
   "outputs": [
    {
     "data": {
      "image/png": "[encoded data removed]",
      "text/plain": [
       "<Figure size 640x480 with 1 Axes>"
      ]
     },
     "metadata": {},
     "output_type": "display_data"
    }
   ],
   "source": [
    "plt.scatter(gini_index_data, mortality_data)\n",
    "plt.show()"
   ]
  },
  {
   "cell_type": "code",
   "execution_count": null,
   "id": "40fedb35",
   "metadata": {},
   "outputs": [],
   "source": [
    "''' \n",
    "No relation between child mortality rate and the gini index for Turkey, according to the graph above.\n",
    "Also it seems like we have outliers.\n",
    "'''"
   ]
  },
  {
   "cell_type": "markdown",
   "id": "d7df43b5-f6db-48e2-b69a-5b7872322f44",
   "metadata": {},
   "source": [
    "## Question 2\n",
    "\n",
    "Use Istanbul Municipality Data Server to retrieve the data on [Rail Transportation Data](https://data.ibb.gov.tr/dataset/yas-grubuna-gore-rayli-sistemler-istasyon-bazli-yolcu-ve-yolculuk-sayilari).\n",
    "\n",
    "1. Explore the dataset and explain each column.\n",
    "2. Notice that the longitude and lattitude data is not recorded correctly. However, it is easy to correct the data. Explain how you would correct it and then write a function to correct it.\n",
    "3. Notice that the passenger information is split according to age brackets. Find the total number of passengers for each station ~~in each month~~ and store it in a pandas dataframe. Then plot it on a map of Istanbul. Use disks of different sizes depending on the total number of passengers.\n",
    "4. Write a function that accepts the age bracket as input (<20, 20-30, 30-60, 60+, unknown) and returns a probability an array of maps (dictionaries) of the form\n",
    "\n",
    "    {Station Name: probability that the specific age bracket uses the station}\n",
    "5. The return value for the function you wrote above is a probability distribution on the set of stations, i.e. the usage patterns of different age brackets. Figure out which stations are favored by each age bracket.\n",
    "6. How do we check that the usage patterns for different age brackets are different? Use your idea to write a code to check for these differences."
   ]
  },
  {
   "cell_type": "code",
   "execution_count": 90,
   "id": "b97bb9d3-aaa7-4647-b4a0-e9f6d5f72f11",
   "metadata": {},
   "outputs": [
    {
     "data": {
      "text/html": [
       "<div>\n",
       "<style scoped>\n",
       "    .dataframe tbody tr th:only-of-type {\n",
       "        vertical-align: middle;\n",
       "    }\n",
       "\n",
       "    .dataframe tbody tr th {\n",
       "        vertical-align: top;\n",
       "    }\n",
       "\n",
       "    .dataframe thead th {\n",
       "        text-align: right;\n",
       "    }\n",
       "</style>\n",
       "<table border=\"1\" class=\"dataframe\">\n",
       "  <thead>\n",
       "    <tr style=\"text-align: right;\">\n",
       "      <th></th>\n",
       "      <th>passage_cnt</th>\n",
       "      <th>passanger_cnt</th>\n",
       "      <th>transaction_year</th>\n",
       "      <th>transaction_month</th>\n",
       "      <th>line</th>\n",
       "      <th>station_name</th>\n",
       "      <th>station_number</th>\n",
       "      <th>town</th>\n",
       "      <th>latitude</th>\n",
       "      <th>longitude</th>\n",
       "      <th>Age-Group</th>\n",
       "    </tr>\n",
       "  </thead>\n",
       "  <tbody>\n",
       "    <tr>\n",
       "      <th>0</th>\n",
       "      <td>7.424</td>\n",
       "      <td>4.227</td>\n",
       "      <td>2.021</td>\n",
       "      <td>1</td>\n",
       "      <td>F1-TAKSIM-KABATAS FUNIKILER HATTI</td>\n",
       "      <td>KABATAS</td>\n",
       "      <td>KTS-TKS</td>\n",
       "      <td>Beyoğlu</td>\n",
       "      <td>410340555555556</td>\n",
       "      <td>289920277777778</td>\n",
       "      <td>20-30</td>\n",
       "    </tr>\n",
       "    <tr>\n",
       "      <th>1</th>\n",
       "      <td>18.374</td>\n",
       "      <td>9.479</td>\n",
       "      <td>2.021</td>\n",
       "      <td>1</td>\n",
       "      <td>F1-TAKSIM-KABATAS FUNIKILER HATTI</td>\n",
       "      <td>KABATAS</td>\n",
       "      <td>KTS-TKS</td>\n",
       "      <td>Beyoğlu</td>\n",
       "      <td>410340555555556</td>\n",
       "      <td>289920277777778</td>\n",
       "      <td>30-60</td>\n",
       "    </tr>\n",
       "    <tr>\n",
       "      <th>2</th>\n",
       "      <td>3.190</td>\n",
       "      <td>1.430</td>\n",
       "      <td>2.021</td>\n",
       "      <td>1</td>\n",
       "      <td>F1-TAKSIM-KABATAS FUNIKILER HATTI</td>\n",
       "      <td>KABATAS</td>\n",
       "      <td>KTS-TKS</td>\n",
       "      <td>Beyoğlu</td>\n",
       "      <td>410340555555556</td>\n",
       "      <td>289920277777778</td>\n",
       "      <td>60+</td>\n",
       "    </tr>\n",
       "    <tr>\n",
       "      <th>3</th>\n",
       "      <td>949.000</td>\n",
       "      <td>469.000</td>\n",
       "      <td>2.021</td>\n",
       "      <td>1</td>\n",
       "      <td>F1-TAKSIM-KABATAS FUNIKILER HATTI</td>\n",
       "      <td>KABATAS</td>\n",
       "      <td>KTS-TKS</td>\n",
       "      <td>Beyoğlu</td>\n",
       "      <td>410340555555556</td>\n",
       "      <td>289920277777778</td>\n",
       "      <td>&lt;20</td>\n",
       "    </tr>\n",
       "    <tr>\n",
       "      <th>4</th>\n",
       "      <td>8.673</td>\n",
       "      <td>4.222</td>\n",
       "      <td>2.021</td>\n",
       "      <td>1</td>\n",
       "      <td>F1-TAKSIM-KABATAS FUNIKILER HATTI</td>\n",
       "      <td>KABATAS</td>\n",
       "      <td>KTS-TKS</td>\n",
       "      <td>Beyoğlu</td>\n",
       "      <td>410340555555556</td>\n",
       "      <td>289920277777778</td>\n",
       "      <td>Unknown</td>\n",
       "    </tr>\n",
       "    <tr>\n",
       "      <th>...</th>\n",
       "      <td>...</td>\n",
       "      <td>...</td>\n",
       "      <td>...</td>\n",
       "      <td>...</td>\n",
       "      <td>...</td>\n",
       "      <td>...</td>\n",
       "      <td>...</td>\n",
       "      <td>...</td>\n",
       "      <td>...</td>\n",
       "      <td>...</td>\n",
       "      <td>...</td>\n",
       "    </tr>\n",
       "    <tr>\n",
       "      <th>17077</th>\n",
       "      <td>9.295</td>\n",
       "      <td>8.209</td>\n",
       "      <td>2.021</td>\n",
       "      <td>12</td>\n",
       "      <td>TF2-TELEFERIK EYUP PIYERLOTI</td>\n",
       "      <td>Pierloti</td>\n",
       "      <td>PLT-EYU</td>\n",
       "      <td>EyüpSultan</td>\n",
       "      <td>410533333333333</td>\n",
       "      <td>289335555555556</td>\n",
       "      <td>20-30</td>\n",
       "    </tr>\n",
       "    <tr>\n",
       "      <th>17078</th>\n",
       "      <td>10.554</td>\n",
       "      <td>9.361</td>\n",
       "      <td>2.021</td>\n",
       "      <td>12</td>\n",
       "      <td>TF2-TELEFERIK EYUP PIYERLOTI</td>\n",
       "      <td>Pierloti</td>\n",
       "      <td>PLT-EYU</td>\n",
       "      <td>EyüpSultan</td>\n",
       "      <td>410533333333333</td>\n",
       "      <td>289335555555556</td>\n",
       "      <td>30-60</td>\n",
       "    </tr>\n",
       "    <tr>\n",
       "      <th>17079</th>\n",
       "      <td>1.552</td>\n",
       "      <td>1.235</td>\n",
       "      <td>2.021</td>\n",
       "      <td>12</td>\n",
       "      <td>TF2-TELEFERIK EYUP PIYERLOTI</td>\n",
       "      <td>Pierloti</td>\n",
       "      <td>PLT-EYU</td>\n",
       "      <td>EyüpSultan</td>\n",
       "      <td>410533333333333</td>\n",
       "      <td>289335555555556</td>\n",
       "      <td>60+</td>\n",
       "    </tr>\n",
       "    <tr>\n",
       "      <th>17080</th>\n",
       "      <td>3.319</td>\n",
       "      <td>2.632</td>\n",
       "      <td>2.021</td>\n",
       "      <td>12</td>\n",
       "      <td>TF2-TELEFERIK EYUP PIYERLOTI</td>\n",
       "      <td>Pierloti</td>\n",
       "      <td>PLT-EYU</td>\n",
       "      <td>EyüpSultan</td>\n",
       "      <td>410533333333333</td>\n",
       "      <td>289335555555556</td>\n",
       "      <td>&lt;20</td>\n",
       "    </tr>\n",
       "    <tr>\n",
       "      <th>17081</th>\n",
       "      <td>15.777</td>\n",
       "      <td>8.714</td>\n",
       "      <td>2.021</td>\n",
       "      <td>12</td>\n",
       "      <td>TF2-TELEFERIK EYUP PIYERLOTI</td>\n",
       "      <td>Pierloti</td>\n",
       "      <td>PLT-EYU</td>\n",
       "      <td>EyüpSultan</td>\n",
       "      <td>410533333333333</td>\n",
       "      <td>289335555555556</td>\n",
       "      <td>Unknown</td>\n",
       "    </tr>\n",
       "  </tbody>\n",
       "</table>\n",
       "<p>17082 rows × 11 columns</p>\n",
       "</div>"
      ],
      "text/plain": [
       "       passage_cnt  passanger_cnt  transaction_year  transaction_month  \\\n",
       "0            7.424          4.227             2.021                  1   \n",
       "1           18.374          9.479             2.021                  1   \n",
       "2            3.190          1.430             2.021                  1   \n",
       "3          949.000        469.000             2.021                  1   \n",
       "4            8.673          4.222             2.021                  1   \n",
       "...            ...            ...               ...                ...   \n",
       "17077        9.295          8.209             2.021                 12   \n",
       "17078       10.554          9.361             2.021                 12   \n",
       "17079        1.552          1.235             2.021                 12   \n",
       "17080        3.319          2.632             2.021                 12   \n",
       "17081       15.777          8.714             2.021                 12   \n",
       "\n",
       "                                    line station_name station_number  \\\n",
       "0      F1-TAKSIM-KABATAS FUNIKILER HATTI      KABATAS        KTS-TKS   \n",
       "1      F1-TAKSIM-KABATAS FUNIKILER HATTI      KABATAS        KTS-TKS   \n",
       "2      F1-TAKSIM-KABATAS FUNIKILER HATTI      KABATAS        KTS-TKS   \n",
       "3      F1-TAKSIM-KABATAS FUNIKILER HATTI      KABATAS        KTS-TKS   \n",
       "4      F1-TAKSIM-KABATAS FUNIKILER HATTI      KABATAS        KTS-TKS   \n",
       "...                                  ...          ...            ...   \n",
       "17077       TF2-TELEFERIK EYUP PIYERLOTI     Pierloti        PLT-EYU   \n",
       "17078       TF2-TELEFERIK EYUP PIYERLOTI     Pierloti        PLT-EYU   \n",
       "17079       TF2-TELEFERIK EYUP PIYERLOTI     Pierloti        PLT-EYU   \n",
       "17080       TF2-TELEFERIK EYUP PIYERLOTI     Pierloti        PLT-EYU   \n",
       "17081       TF2-TELEFERIK EYUP PIYERLOTI     Pierloti        PLT-EYU   \n",
       "\n",
       "             town         latitude        longitude Age-Group  \n",
       "0         Beyoğlu  410340555555556  289920277777778     20-30  \n",
       "1         Beyoğlu  410340555555556  289920277777778     30-60  \n",
       "2         Beyoğlu  410340555555556  289920277777778       60+  \n",
       "3         Beyoğlu  410340555555556  289920277777778       <20  \n",
       "4         Beyoğlu  410340555555556  289920277777778   Unknown  \n",
       "...           ...              ...              ...       ...  \n",
       "17077  EyüpSultan  410533333333333  289335555555556     20-30  \n",
       "17078  EyüpSultan  410533333333333  289335555555556     30-60  \n",
       "17079  EyüpSultan  410533333333333  289335555555556       60+  \n",
       "17080  EyüpSultan  410533333333333  289335555555556       <20  \n",
       "17081  EyüpSultan  410533333333333  289335555555556   Unknown  \n",
       "\n",
       "[17082 rows x 11 columns]"
      ]
     },
     "execution_count": 90,
     "metadata": {},
     "output_type": "execute_result"
    }
   ],
   "source": [
    "with urlopen('https://data.ibb.gov.tr/dataset/d3df8db4-1ac6-4bfe-8896-7ec1159caa2b/resource/7aec630d-2757-4da0-97f1-71b140abd818/download/2021-yl-ya-grubuna-gore-rayl-sistemler-istasyon-bazl-yolcu-ve-yolculuk-saylar.xlsx') as url:\n",
    "    data = pd.read_excel(url.read())\n",
    "\n",
    "data"
   ]
  },
  {
   "cell_type": "code",
   "execution_count": null,
   "id": "cae704ad",
   "metadata": {},
   "outputs": [],
   "source": [
    "'''\n",
    "Lets explore the dataset and explain each column.\n",
    "\n",
    "This dataset contains the daily passenger and journey numbers at the stations of the rail systems.\n",
    "Also it is detailed by age group. We have 11 columns such as passage and passanger count, month and year info of transaction, line,\n",
    "name and number of stations, town, also geographic coordinate systems latitude and longitude infos.\n",
    "'''\n"
   ]
  },
  {
   "cell_type": "markdown",
   "id": "ffbd7c40-b9c3-4df6-a637-d38bb44f0f1f",
   "metadata": {},
   "source": [
    "# Question 3\n",
    "\n",
    "For this question use Yahoo Finance API via [yfinance](https://pypi.org/project/yfinance/) library. Retrieve the data for Microsoft [MSFT], Apple [AAPL] and NASDAQ-100 [NDX]. from January 1, 2000.\n",
    "\n",
    "1. Calculate the log of each series, and then calculate the first derivative of the result. What you got is called the [log-return](https://core.ac.uk/download/pdf/161062652.pdf) of each series. \n",
    "2. Merge the series you obtain in Step 1 into a single pandas dataframe.\n",
    "3. Plot the histograms of results you obtained above (use 10 bins).\n",
    "4. Plot all three series in a single plot to compare. Do you see a relationship? \n",
    "5. How do we see if there are any correlations between these series? What is the statistically correct way of testing it? Find the right statistical test and measure all three correlations."
   ]
  },
  {
   "cell_type": "code",
   "execution_count": 93,
   "id": "283c3ae9-a7fa-4264-ac2f-e975f8f0619d",
   "metadata": {},
   "outputs": [],
   "source": [
    "import yfinance as yf"
   ]
  },
  {
   "cell_type": "code",
   "execution_count": null,
   "id": "3b189dc5",
   "metadata": {},
   "outputs": [],
   "source": []
  }
 ],
 "metadata": {
  "kernelspec": {
   "display_name": "Python 3.10.7 64-bit",
   "language": "python",
   "name": "python3"
  },
  "language_info": {
   "codemirror_mode": {
    "name": "ipython",
    "version": 3
   },
   "file_extension": ".py",
   "mimetype": "text/x-python",
   "name": "python",
   "nbconvert_exporter": "python",
   "pygments_lexer": "ipython3",
   "version": "3.10.7"
  },
  "vscode": {
   "interpreter": {
    "hash": "069f238df288ea09d7b18ad4fdd00a6dec393d601f860917fae3606455fbfe67"
   }
  }
 },
 "nbformat": 4,
 "nbformat_minor": 5
}
